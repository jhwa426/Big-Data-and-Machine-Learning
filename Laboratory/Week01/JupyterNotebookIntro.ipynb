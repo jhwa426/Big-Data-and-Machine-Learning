{
  "cells": [
    {
      "cell_type": "markdown",
      "metadata": {
        "id": "3GPswd9ZPO0X"
      },
      "source": [
        "# Jupyter Notebook 101"
      ]
    },
    {
      "cell_type": "markdown",
      "metadata": {
        "id": "GK7ItgaFPO0Y"
      },
      "source": [
        "This introduction is designed for Jupyter notebooks. In practice, these notebooks also run on Google Colab. In this lab we will talk about jupyter notebook layout as well as that in Google Colab. By the end of the lab you will understand how to run simple python code in a cloud-based system."
      ]
    },
    {
      "cell_type": "code",
      "source": [
        "from IPython.display import YouTubeVideo\n",
        "YouTubeVideo(\"WKpX5-wlWa8\")"
      ],
      "metadata": {
        "colab": {
          "base_uri": "https://localhost:8080/",
          "height": 322
        },
        "id": "-omiMsxqnyny",
        "outputId": "1b2c8c6d-ba99-43e8-8b52-90d4ee1e001d"
      },
      "execution_count": null,
      "outputs": [
        {
          "output_type": "execute_result",
          "data": {
            "text/plain": [
              "<IPython.lib.display.YouTubeVideo at 0x7faeaf643f90>"
            ],
            "text/html": [
              "\n",
              "        <iframe\n",
              "            width=\"400\"\n",
              "            height=\"300\"\n",
              "            src=\"https://www.youtube.com/embed/WKpX5-wlWa8\"\n",
              "            frameborder=\"0\"\n",
              "            allowfullscreen\n",
              "        ></iframe>\n",
              "        "
            ],
            "image/jpeg": "[encoded data removed]"
          },
          "metadata": {},
          "execution_count": 1
        }
      ]
    },
    {
      "cell_type": "markdown",
      "metadata": {
        "id": "DPVp0XkSPO0Z"
      },
      "source": [
        "## Introduction"
      ]
    },
    {
      "cell_type": "markdown",
      "metadata": {
        "id": "GNb2DaYyPO0a"
      },
      "source": [
        "Let's build up from the basics: what is a Jupyter Notebook? Well, we wrote this book using Jupyter Notebooks. A notebook is a document made of cells. You can write in some of them (markdown cells) or you can perform calculations in Python (code cells) and run them like this:"
      ]
    },
    {
      "cell_type": "code",
      "execution_count": null,
      "metadata": {
        "id": "PiIgRapUPO0a",
        "outputId": "3f172853-81db-47c6-f9b7-5b93f1ff9eec",
        "colab": {
          "base_uri": "https://localhost:8080/"
        }
      },
      "outputs": [
        {
          "output_type": "execute_result",
          "data": {
            "text/plain": [
              "2"
            ]
          },
          "metadata": {},
          "execution_count": 1
        }
      ],
      "source": [
        "1+1"
      ]
    },
    {
      "cell_type": "markdown",
      "metadata": {
        "id": "zh9dfOwhPO0b"
      },
      "source": [
        "Cool, huh? This combination of prose and code makes Jupyter Notebook ideal for experimentation: we can see the rationale for each experiment, the code, and the results in one comprehensive document. \n",
        "\n",
        "Other renowned institutions in academia and industry use Jupyter Notebook, including Google, Microsoft, IBM, Bloomberg, Berkeley and NASA among others. Even Nobel-winning economists [use Jupyter Notebooks](https://paulromer.net/jupyter-mathematica-and-the-future-of-the-research-paper/)  for their experiments and some suggest that Jupyter Notebooks will be the [new format for research papers](https://www.theatlantic.com/science/archive/2018/04/the-scientific-paper-is-obsolete/556676/).\n"
      ]
    },
    {
      "cell_type": "markdown",
      "metadata": {
        "id": "wf6JyAnIPO0c"
      },
      "source": [
        "## Writing"
      ]
    },
    {
      "cell_type": "markdown",
      "metadata": {
        "id": "MdFX2XpcPO0d"
      },
      "source": [
        "A type of cell in which you can write text is called a _Markdown cell_. [_Markdown_](https://en.wikipedia.org/wiki/Markdown) is a very popular markup language. To specify that a cell is Markdown you need to click in the drop-down menu in the toolbar and select Markdown.\n",
        "\n",
        "Click on the the '+' button on the left and select Markdown from the toolbar. Now you can type your first Markdown cell. Write 'My first markdown cell' and press run.\n",
        "\n",
        "![add](https://github.com/fastai/fastbook/blob/master/images/chapter1_add.png?raw=1)\n",
        "\n",
        "You should see something like this:"
      ]
    },
    {
      "cell_type": "markdown",
      "metadata": {
        "id": "RJ2Dv4UZPO0d"
      },
      "source": [
        "My first markdown cell"
      ]
    },
    {
      "cell_type": "markdown",
      "metadata": {
        "id": "riPXUNJDPO0e"
      },
      "source": [
        "Now try making your first _Code_ cell: follow the same steps as before but don't change the cell type (when you add a cell its default type is _Code_). Type something like 3/2. You should see '1.5' as output."
      ]
    },
    {
      "cell_type": "code",
      "execution_count": null,
      "metadata": {
        "id": "Z4cTeCyaPO0e",
        "outputId": "31afe76a-ba9b-4326-c916-ca4e3b1b1c07",
        "colab": {
          "base_uri": "https://localhost:8080/"
        }
      },
      "outputs": [
        {
          "output_type": "execute_result",
          "data": {
            "text/plain": [
              "1.5"
            ]
          },
          "metadata": {},
          "execution_count": 2
        }
      ],
      "source": [
        "3/2"
      ]
    },
    {
      "cell_type": "markdown",
      "metadata": {
        "id": "a7B-tLrrPO0e"
      },
      "source": [
        "## Modes"
      ]
    },
    {
      "cell_type": "markdown",
      "metadata": {
        "id": "A7842xx4PO0e"
      },
      "source": [
        "If you made a mistake in your *Markdown* cell and you have already run it, you will notice that you cannot edit it just by clicking on it. This is because you are in **Command Mode**. Jupyter Notebooks have two distinct modes:\n",
        "\n",
        "- Edit Mode:: Allows you to edit a cell's content.\n",
        "\n",
        "- Command Mode:: Allows you to edit the notebook as a whole and use keyboard shortcuts but not edit a cell's content. \n",
        "\n",
        "You can toggle between these two by either pressing <kbd>ESC</kbd> and <kbd>Enter</kbd> or clicking outside a cell or inside it (you need to double click if it's a Markdown cell). You can always tell which mode you're on: the current cell will have a green border in **Edit Mode** and a blue border in **Command Mode**. Try it!\n"
      ]
    },
    {
      "cell_type": "markdown",
      "metadata": {
        "id": "paSdASyqPO0f"
      },
      "source": [
        "## Other Important Considerations"
      ]
    },
    {
      "cell_type": "markdown",
      "metadata": {
        "id": "i7iZs5xkPO0f"
      },
      "source": [
        "Your notebook is autosaved every 120 seconds. If you want to manually save it you can just press the save button on the upper left corner or press <kbd>s</kbd> in **Command Mode**.\n",
        "\n",
        "![Save](https://github.com/fastai/fastbook/blob/master/images/chapter1_save.png?raw=1)\n",
        "\n",
        "To know if your *kernel* (the Python engine executing your instructions behind the scenes) is computing or not, you can check the dot in your upper right corner. If the dot is full, it means that the kernel is working. If not, it is idle. You can place the mouse on it and the state of the kernel will be displayed.\n",
        "\n",
        "![Busy](https://github.com/fastai/fastbook/blob/master/images/chapter1_busy.png?raw=1)\n",
        "\n",
        "There are a couple of shortcuts you must know about which we use **all** the time (always in **Command Mode**). These are:\n",
        "\n",
        " - Shift+Enter:: Run the code or markdown on a cell\n",
        " \n",
        " - Up Arrow+Down Arrow:: Toggle across cells\n",
        " \n",
        " - b:: Create new cell\n",
        " \n",
        " - 0+0:: Reset Kernel\n",
        "\n",
        "You can find more shortcuts by typing <kbd>h</kbd> (for help).\n",
        "\n",
        "You may need to use a terminal in a Jupyter Notebook environment (for example to git pull on a repository). That is very easy to do: just press 'New' in your Home directory and 'Terminal'. Don't know how to use the Terminal? We made a tutorial for that as well. You can find it [here](https://course19.fast.ai/terminal_tutorial.html).\n",
        "\n",
        "![Terminal](https://github.com/fastai/fastbook/blob/master/images/chapter1_terminal.png?raw=1)"
      ]
    },
    {
      "cell_type": "markdown",
      "metadata": {
        "id": "Jo4DwfS2PO0g"
      },
      "source": [
        "That's it. This is all you need to know to use Jupyter Notebooks. That said, we have more tips and tricks below, so don't jump to the next section just yet.\n"
      ]
    },
    {
      "cell_type": "markdown",
      "metadata": {
        "id": "CjRSdlpoPO0g"
      },
      "source": [
        "## Markdown Formatting\n"
      ]
    },
    {
      "cell_type": "markdown",
      "metadata": {
        "id": "1yRpSPqtPO0g"
      },
      "source": [
        "### Italics, Bold, Strikethrough, Inline, Blockquotes and Links"
      ]
    },
    {
      "cell_type": "markdown",
      "metadata": {
        "id": "2QnWyN8MPO0h"
      },
      "source": [
        "The five most important concepts to format your code appropriately when using Markdown are:\n",
        "    \n",
        "- *Italics*:: Surround your text with \\_ or \\*.\n",
        "\n",
        "- **Bold**:: Surround your text with \\__ or \\**.\n",
        "\n",
        "- `inline`:: Surround your text with \\`.\n",
        "\n",
        "- blockquote:: Place \\> before your text.\n",
        "\n",
        "- [Links](http://course-v3.fast.ai/):: Surround the text you want to link with \\[\\] and place the link adjacent to the text, surrounded with ().\n",
        "\n"
      ]
    },
    {
      "cell_type": "markdown",
      "metadata": {
        "id": "53EHn5qLPO0h"
      },
      "source": [
        "### Headings"
      ]
    },
    {
      "cell_type": "markdown",
      "metadata": {
        "id": "lMa8uWkePO0h"
      },
      "source": [
        "Notice that including a hashtag before the text in a markdown cell makes the text a heading. The number of hashtags you include will determine the priority of the header (# is level one, ## is level two, ### is level three and #### is level four). We will add three new cells with the + button on the left to see how every level of heading looks.\n",
        "\n",
        "In the notebook, double click on some headings and find out what level they are!\n"
      ]
    },
    {
      "cell_type": "markdown",
      "metadata": {
        "id": "-tYTpZJRPO0h"
      },
      "source": [
        "### Lists"
      ]
    },
    {
      "cell_type": "markdown",
      "metadata": {
        "id": "k1JDY9hVPO0h"
      },
      "source": [
        "There are three types of lists in markdown.\n",
        "\n",
        "Ordered list:\n",
        "\n",
        "1. Step 1\n",
        "    2. Step 1B\n",
        "3. Step 3\n",
        "\n",
        "Unordered list\n",
        "\n",
        "* learning rate\n",
        "* cycle length\n",
        "* weight decay\n",
        "\n",
        "Task list\n",
        "\n",
        "- [x] Learn Jupyter Notebooks\n",
        "    - [x] Writing\n",
        "    - [x] Modes\n",
        "    - [x] Other Considerations\n",
        "- [ ] Change the world\n",
        "\n",
        "In the notebook, double click on them to see how they are built! \n"
      ]
    },
    {
      "cell_type": "markdown",
      "metadata": {
        "id": "7tAH5b3WPO0i"
      },
      "source": [
        "## Code Capabilities"
      ]
    },
    {
      "cell_type": "markdown",
      "metadata": {
        "id": "mQXfx7eFPO0i"
      },
      "source": [
        "**Code** cells are different than **Markdown** cells in that they have an output cell. This means that we can _keep_ the results of our code within the notebook and share them. Let's say we want to show a graph that explains the result of an experiment. We can just run the necessary cells and save the notebook. The output will be there when we open it again! Try it out by running the next four cells."
      ]
    },
    {
      "cell_type": "code",
      "execution_count": null,
      "metadata": {
        "id": "axFpkDI4PO0i",
        "outputId": "a86fdb9f-10c3-4d17-f169-de1a2a162f4b",
        "colab": {
          "base_uri": "https://localhost:8080/"
        }
      },
      "outputs": [
        {
          "output_type": "execute_result",
          "data": {
            "text/plain": [
              "(1, 2, 4, 8)"
            ]
          },
          "metadata": {},
          "execution_count": 3
        }
      ],
      "source": [
        "a = 1\n",
        "b = a + 1\n",
        "c = b + a + 1\n",
        "d = c + b + a + 1\n",
        "a, b, c ,d"
      ]
    },
    {
      "cell_type": "code",
      "execution_count": null,
      "metadata": {
        "id": "blJwWOaEPO0i",
        "outputId": "e70879d6-2ace-4d2a-c8e2-671e60a69f6f",
        "colab": {
          "base_uri": "https://localhost:8080/",
          "height": 265
        }
      },
      "outputs": [
        {
          "output_type": "display_data",
          "data": {
            "text/plain": [
              "<Figure size 432x288 with 1 Axes>"
            ],
            "image/png": "[encoded data removed]"
          },
          "metadata": {
            "needs_background": "light"
          }
        }
      ],
      "source": [
        "import matplotlib.pyplot as plt\n",
        "plt.plot([a,b,c,d])\n",
        "plt.show()"
      ]
    },
    {
      "cell_type": "markdown",
      "metadata": {
        "id": "O6R12FS6PO0j"
      },
      "source": [
        "We can also print images while experimenting."
      ]
    },
    {
      "cell_type": "markdown",
      "metadata": {
        "id": "navTYmPFPO0j"
      },
      "source": [
        "## Running the App Locally"
      ]
    },
    {
      "cell_type": "markdown",
      "metadata": {
        "id": "BOtRdeE-PO0k"
      },
      "source": [
        "You may be running Jupyter Notebook from an interactive coding environment like Gradient, Sagemaker or Salamander. You can also run a Jupyter Notebook server from your local computer. What's more, if you have installed Anaconda you don't even need to install Jupyter (if not, just `pip install jupyter`).\n",
        "\n",
        "You just need to run `jupyter notebook` in your terminal. Remember to run it from a folder that contains all the folders/files you will want to access. You will be able to open, view, and edit files located within the directory in which you run this command but not files in parent directories.\n",
        "\n",
        "If a browser tab does not open automatically once you run the command, you should CTRL+CLICK the link starting with 'http://localhost:' and this will open a new tab in your default browser.\n"
      ]
    },
    {
      "cell_type": "markdown",
      "metadata": {
        "id": "Kh_dc_iFPO0k"
      },
      "source": [
        "## Creating a Notebook"
      ]
    },
    {
      "cell_type": "markdown",
      "metadata": {
        "id": "SPjlah_lPO0k"
      },
      "source": [
        "Now that you have your own Jupyter Notebook server running, you will probably want to write your own notebook. Click on 'New' in the upper left corner and 'Python 3' in the drop-down list (we are going to use a [Python kernel](https://github.com/ipython/ipython) for all our experiments).\n",
        "\n",
        "![new_notebook](https://github.com/fastai/fastbook/blob/master/images/chapter1_new_notebook.png?raw=1)\n"
      ]
    },
    {
      "cell_type": "markdown",
      "metadata": {
        "id": "qK0OE3KJPO0k"
      },
      "source": [
        "## Shortcuts and Tricks"
      ]
    },
    {
      "cell_type": "markdown",
      "metadata": {
        "id": "5UzL_89iPO0l"
      },
      "source": [
        "Here is a list of useful tricks when in a Jupyter Notebook. Make sure you learn them early and use them as often as you can!\n"
      ]
    },
    {
      "cell_type": "markdown",
      "metadata": {
        "id": "xXA5rfK_PO0l"
      },
      "source": [
        "### Command Mode Shortcuts"
      ]
    },
    {
      "cell_type": "markdown",
      "metadata": {
        "id": "0eP0fkhZPO0l"
      },
      "source": [
        "There are a couple of useful keyboard shortcuts in `Command Mode` that you can leverage to make Jupyter Notebook faster to use. Remember that you can switch back and forth between `Command Mode` and `Edit Mode` with <kbd>Esc</kbd> and <kbd>Enter</kbd>.\n",
        "\n",
        "- m:: Convert cell to Markdown\n",
        "- y:: Convert cell to Code\n",
        "- d+d:: Delete cell\n",
        "- o:: Toggle between hide or show output\n",
        "- Shift+Arrow up/Arrow down:: Select multiple cells. Once you have selected them you can operate on them like a batch (run, copy, paste etc).\n",
        "- Shift+M:: Merge selected cells\n"
      ]
    },
    {
      "cell_type": "markdown",
      "metadata": {
        "id": "mX4IA1D_PO0l"
      },
      "source": [
        "### Cell Tricks"
      ]
    },
    {
      "cell_type": "markdown",
      "metadata": {
        "id": "4vZ3z-pRPO0l"
      },
      "source": [
        "There are also some tricks that you can code into a cell:\n",
        "\n",
        "- `?function-name`:: Shows the definition and docstring for that function\n",
        "- `??function-name`:: Shows the source code for that function\n",
        "- Shift+Tab (press once):: See which parameters to pass to a function \n",
        "- Shift+Tab (press three times):: Get additional information on the method"
      ]
    }
  ],
  "metadata": {
    "kernelspec": {
      "display_name": "Python 3",
      "language": "python",
      "name": "python3"
    },
    "colab": {
      "name": "JupyterNotebookIntro.ipynb",
      "provenance": [],
      "collapsed_sections": []
    }
  },
  "nbformat": 4,
  "nbformat_minor": 0
}