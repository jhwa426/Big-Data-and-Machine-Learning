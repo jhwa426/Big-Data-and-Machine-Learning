{
  "cells": [
    {
      "cell_type": "markdown",
      "metadata": {
        "id": "1TUi9tPjXthZ"
      },
      "source": [
        "# The Central Limit Theorem\n",
        "\n",
        "The central limit theorem (CLT) theorem is very useful in probability theory. The idea is that if you take a reasonably large sample from **any** distribution, you know that that random sample's mean is normally distributed. Let me clarify.\n",
        "\n",
        "Suppose you:\n",
        "\n",
        "-\tTake a random sample of at least 30 elements from a population of **any** distribution.\n",
        "\n",
        "-\tThen find the mean of that sample.\n",
        "\n",
        "If you drew thousands of samples, then you would find that the distribution of all of those averages forms a normal (bell-shaped) distribution.\n",
        "\n",
        "Cool! So what's the CLT good for?\n",
        "\n",
        "Well, because of the CLT, we know that samples of the mean will be normally distributed regardless of what shape the underlying distribution is. We can use this information to create confidence intervals (i.e., construct a range of values where the population’s mean is likely to lie.) We can also do something called z-tests, where we estimate if a given value is likely to have come from the population-based on what we know about the sample. \n",
        "\n",
        "If you'd like to know more about sampling and the CLT, here are two useful videos to watch:\n",
        "\n",
        "https://www.youtube.com/watch?v=YAlJCEDH2uY\n",
        "\n",
        "https://www.youtube.com/watch?v=XLCWeSVzHUU\n"
      ]
    },
    {
      "cell_type": "code",
      "execution_count": null,
      "metadata": {
        "id": "eUB3Gn_aJLpM"
      },
      "outputs": [],
      "source": [
        "from IPython.display import YouTubeVideo\n",
        "YouTubeVideo( \"XLCWeSVzHUU\", width=600, height=400) "
      ]
    },
    {
      "cell_type": "code",
      "execution_count": null,
      "metadata": {
        "id": "7nhlHeSx5Wo2"
      },
      "outputs": [],
      "source": [
        "YouTubeVideo( \"YAlJCEDH2uY\", width=600, height=400)"
      ]
    },
    {
      "cell_type": "markdown",
      "metadata": {
        "id": "hqZqAypvkqT5"
      },
      "source": [
        "# Let's see how the CLT works!\n",
        "\n",
        "First, let's load some python libraries we need."
      ]
    },
    {
      "cell_type": "code",
      "execution_count": null,
      "metadata": {
        "id": "bIk1TOzKaf9l"
      },
      "outputs": [],
      "source": [
        "# Load libraries and utility functions\n",
        "import random\n",
        "import statistics\n",
        "import matplotlib.pyplot as plt  # plotting library\n",
        "import seaborn as sns # KDE viz library\n",
        "\n",
        "import warnings\n",
        "warnings.simplefilter(action='ignore', category=FutureWarning) # suppress warnings\n",
        "from IPython.display import display, Markdown # do pretty printing\n",
        "\n",
        "# Print out text and add markdown formatting marks to be interpretted\n",
        "def pprint(txt, marks=''):\n",
        "  display(Markdown( f\"{marks}{txt}{marks}\") )\n"
      ]
    },
    {
      "cell_type": "code",
      "execution_count": null,
      "metadata": {
        "id": "zlObSA84Xo79"
      },
      "outputs": [],
      "source": [
        "\n",
        "# Simulate data drawn from different distributions  \n",
        "from scipy.stats import uniform\n",
        "# random numbers from uniform distribution\n",
        "n = 10000\n",
        "start = 10\n",
        "width = 20\n",
        "data_uniform = uniform.rvs(size=n, loc = start, scale=width)\n",
        "\n",
        "from scipy.stats import norm\n",
        "data_normal = norm.rvs(size=10000,loc=0,scale=1)\n",
        "\n",
        "from scipy.stats import gamma\n",
        "data_gamma = gamma.rvs(a=5, size=10000)\n",
        "\n",
        "from scipy.stats import expon\n",
        "data_expon = expon.rvs(scale=1,loc=0,size=10000)\n",
        "\n",
        "from scipy.stats import poisson\n",
        "data_poisson = poisson.rvs(mu=3, size=10000)\n",
        "\n",
        "from scipy.stats import binom\n",
        "data_binom = binom.rvs(n=10,p=0.8,size=10000)\n",
        "\n",
        "from scipy.stats import bernoulli\n",
        "data_bern = bernoulli.rvs(size=10000,p=0.6)"
      ]
    },
    {
      "cell_type": "markdown",
      "metadata": {
        "id": "MqydH51pZjDb"
      },
      "source": [
        "# Central Limit Theorem (CLT)\n",
        "\n",
        "When we take a sample from a population, we can calculate a sample mean. The basic idea of the CLT is that when we take multiple samples, the distributions of the means will be **normally distributed**. \n",
        "\n",
        "# What is the normal distribution?\n",
        "\n",
        "The normal distribution is a probability distribution that looks like a bell. The normal distribution is symmetric around the mean. In other words, data closer to the mean occur more frequently than data far from the mean. \n",
        "\n",
        "<img src=\"https://busan302.mycourses.work/images/NormalDist.png\" width=400px>\n",
        "\n",
        "# Why is the CLT a big deal?\n",
        "\n",
        "In practice, we are usually constrained to just taking a single sample from a population, not thousands of samples. The CLT tells us that, for a given sample greater than roughly 30 elements, we can assume the sample mean is drawn from a normal distribution.\n",
        "\n",
        "In this section, we will define the sample's size (SAMPLE_SIZE) and the number of samples (NUM_SAMPLES) we'd like to draw from the data distributions we created earlier."
      ]
    },
    {
      "cell_type": "code",
      "execution_count": null,
      "metadata": {
        "id": "LylcwEyuaXeY"
      },
      "outputs": [],
      "source": [
        "# Function to take a random sample from a given distribution.\n",
        "# Uses the global variables NUM_SAMPLES and SAMPLE_SIZE set above.\n",
        "def get_samples( some_dist, num_samples=0, sample_size=0 ):\n",
        "  lst = []\n",
        "  for i in range(num_samples):\n",
        "    spl = [] # create a list to hold elements from our sample\n",
        "    for j in range(sample_size):\n",
        "      idx = random.randint( 0, len(some_dist)-1 ) # randomly draw an observation from the data distribution\n",
        "      spl.append( float(some_dist[idx]) ) # add item to our sample\n",
        "    lst.append( statistics.mean(spl) ) # take the mean of the sample and save that \n",
        "  return lst # return the list of sample means"
      ]
    },
    {
      "cell_type": "markdown",
      "metadata": {
        "id": "lMdyFIruAkSi"
      },
      "source": [
        "# Simulation\n",
        "This next section runs a program to simulate how the CLT works!\n",
        "\n",
        "The list **example_distributions** contains different population distributions. The simulation will draw a series of random samples from each population. The distribution of these sample means appears in red on the right side. Overlaid on top is a smoothed line called a **kernel density estimation (KDE).** \n",
        "\n",
        "Look at the population distribution of the left side. Compare the distribution of the sample means to the population.\n",
        "\n",
        "Is the resulting KDE bell-shaped like a normal distribution or some other shape? What happens if you change the number of samples (NUM_SAMPLES) drawn from the population?\n"
      ]
    },
    {
      "cell_type": "code",
      "execution_count": null,
      "metadata": {
        "id": "hjF4FwfW_sTs"
      },
      "outputs": [],
      "source": [
        "example_distributions = [ (\"Uniform\",data_uniform), (\"Normal\",data_normal), (\"Gamma\",data_gamma), (\"Exponential\",data_expon), (\"Poisson\",data_poisson), (\"Binomial\",data_binom) , (\"Bernoulli\",data_bern) ]\n",
        "# Global variables\n",
        "NUM_SAMPLES = 50  # The number of samples to take from the population\n",
        "SAMPLE_SIZE = 30  # The size of each sample to take (i.e., how many elements to draw from the population.)\n",
        "\n",
        "\n",
        "# Loop over distributions and find the results\n",
        "for the_name, this_dist in example_distributions:\n",
        "  \n",
        "  samples = get_samples( this_dist, NUM_SAMPLES, SAMPLE_SIZE )\n",
        "  plt.subplot(1, 2, 1) # row 1, col 2 index 1\n",
        "  plt.title(f\"Population:\\n{the_name} distribution\")\n",
        "  \n",
        "  pprint(f\"Source population distribution: {the_name}\",'##')\n",
        "  pprint(f\"Take repeated samples from {the_name} shaped population.\")\n",
        "  plt.hist( this_dist, bins=100) \n",
        "  \n",
        "  #pprint( f\"Distribution of the means from repeated samples taken from {the_name} distribution.\" )\n",
        "  plt.subplot(1, 2, 2) # index 2\n",
        "  sns.distplot( samples, hist=True, kde=True, bins=100, color = 'red', hist_kws={'edgecolor':'white'})\n",
        "\n",
        "  plt.title(f\"Distribution of means\\nfrom repeated samples\\nof {the_name} distribution\") \n",
        "  plt.show()"
      ]
    },
    {
      "cell_type": "markdown",
      "metadata": {
        "id": "5G_rczelLq5_"
      },
      "source": [
        "# Questions - Central Limit Theorem\n",
        "\n",
        "- Look at the global variables NUM_SAMPLES. See what happens to the distribution of the sample means when you change this variable and run the code blocks again.\n",
        "\n",
        "- What happens to the **distribution of the means** if you set NUM_SAMPLES equal to **50**?\n",
        "\n",
        "- What happens to the **distribution of the means** if you set NUM_SAMPLES equal to **5000**?\n",
        "\n",
        "- What happens to the **distribution of the means** if you set NUM_SAMPLES equal to **50000**?\n",
        "\n"
      ]
    },
    {
      "cell_type": "markdown",
      "metadata": {
        "id": "6pPHS9FpptrB"
      },
      "source": [
        "# Some notes on the importance of the CLT\n",
        "\n",
        "These simulations show that the mean of a sample randomly drawn from a population is distributed normally (i.e., it is drawn from a bell-shaped distribution). The caveat is that the sample size must be sufficiently large so that the mean is accurate. How large is large enough? A rule of thumb is that a sample must have at least 30 elements before we can assume normality. \n",
        "\n",
        "It is often helpful to know a value has been drawn from normal distributions because many statistical tests assume that a value is drawn from a normal distribution.\n",
        "\n",
        "When we take a random sample, we usually want to estimate the population's mean. If we know that a given value is drawn from a normal distribution, we can infer the likely value of the population mean. If our sample is large enough (n > 30), we can take the sample mean and standard deviation and calculate confidence intervals around our estimates.\n",
        "\n",
        "There’s a lot to unpack in the previous sentences, but suffice it to say that the CLT is a big deal, making much of statistics possible!\n"
      ]
    }
  ],
  "metadata": {
    "colab": {
      "collapsed_sections": [],
      "name": "Normal_CLT.ipynb의 사본",
      "private_outputs": true,
      "provenance": []
    },
    "gpuClass": "standard",
    "kernelspec": {
      "display_name": "Python 3",
      "name": "python3"
    },
    "language_info": {
      "name": "python"
    }
  },
  "nbformat": 4,
  "nbformat_minor": 0
}
