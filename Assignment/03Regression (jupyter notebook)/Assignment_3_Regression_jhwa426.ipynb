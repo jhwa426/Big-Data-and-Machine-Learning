{
  "cells": [
    {
      "cell_type": "markdown",
      "metadata": {
        "id": "Fagv-_0sq7ZT"
      },
      "source": [
        "# Assignment 3\n",
        "\n",
        "Welcome to assignment #3! In this assignment, we will continue with exploratory data analysis (EDA) using pandas, examine correlations, and conduct a linear regression.\n",
        "\n",
        "We've been working with pandas and python for a while now. This assignment is intended to be relatively straightforward. However, it is always possible that you run into problems. Part of this assignment is about seeing how you deal with problems. \n",
        "\n",
        "If you do get stuck on a coding problem, you should abstract your problem before you ask the TAs or professor. (For example, we will gladly help you learn how to run a regression, but we will not help run the regression listed in this assignment.) Instead, you should show your problem example using the car data file. (You can download it from https://busan302.mycourses.work/data/mtcars.csv) Make up a small example using that data, to reproduce the error you are getting.\n",
        "\n",
        "In other words, you can ask the TAs for help on specific technical issues but not for answers to problems. Also, \"Is this right?\" is not an acceptable use of TA or professor time. At third year level you should be able to read a question written in plain English without needing excessive clarification.\n",
        "\n",
        "**DO NOT POST YOUR ATTEMPTED ANSWERS TO PIAZZA.** This happened so much for Assignment 2 that as an exercise it is virtually meaningless. I don't want this to happen again.\n",
        "\n",
        "**Note: You need to answer all questions in complete sentences. Failure to do so will result in part or zero marks.**\n",
        "\n",
        "Before you start, I'd like you to watch the following video. This video is an excellent review of  topics we'll cover in this assignment.\n"
      ]
    },
    {
      "cell_type": "code",
      "execution_count": 39,
      "metadata": {
        "id": "UxoCvUk-q7ZW",
        "outputId": "da5359d8-1adb-4520-a077-71b139169c66",
        "colab": {
          "base_uri": "https://localhost:8080/",
          "height": 321
        }
      },
      "outputs": [
        {
          "output_type": "execute_result",
          "data": {
            "text/plain": [
              "<IPython.lib.display.YouTubeVideo at 0x7f83c1ceeed0>"
            ],
            "text/html": [
              "\n",
              "        <iframe\n",
              "            width=\"400\"\n",
              "            height=\"300\"\n",
              "            src=\"https://www.youtube.com/embed/PaFPbb66DxQ\"\n",
              "            frameborder=\"0\"\n",
              "            allowfullscreen\n",
              "        ></iframe>\n",
              "        "
            ],
            "image/jpeg": "[encoded data removed]"
          },
          "metadata": {},
          "execution_count": 39
        }
      ],
      "source": [
        "from IPython.display import YouTubeVideo\n",
        "YouTubeVideo(\"PaFPbb66DxQ\")"
      ]
    },
    {
      "cell_type": "markdown",
      "metadata": {
        "id": "u_TdDo2tq7ZZ"
      },
      "source": [
        "# Let's look again at house price data!\n"
      ]
    },
    {
      "cell_type": "markdown",
      "metadata": {
        "id": "IthnfJHCq7ZZ"
      },
      "source": [
        "## Data dictionary\n",
        "Here are brief explanations of our variables. You will **rarely** have a detailed dictionary in any organization. This means that your initial explorations of the data are absolutely crucial so that you can understand your data!"
      ]
    },
    {
      "cell_type": "code",
      "execution_count": 30,
      "metadata": {
        "colab": {
          "base_uri": "https://localhost:8080/",
          "height": 321
        },
        "cellView": "code",
        "id": "ode3kwOeq7Za",
        "outputId": "a2091113-80ca-4e3c-d678-3b983b21488e"
      },
      "outputs": [
        {
          "output_type": "execute_result",
          "data": {
            "text/plain": [
              "<IPython.lib.display.IFrame at 0x7f83deddf350>"
            ],
            "text/html": [
              "\n",
              "        <iframe\n",
              "            width=\"800\"\n",
              "            height=\"300\"\n",
              "            src=\"https://busan302.mycourses.work/data/house_price_data_description_short.html\"\n",
              "            frameborder=\"0\"\n",
              "            allowfullscreen\n",
              "        ></iframe>\n",
              "        "
            ]
          },
          "metadata": {},
          "execution_count": 30
        }
      ],
      "source": [
        "from IPython.display import IFrame\n",
        "IFrame(src='https://busan302.mycourses.work/data/house_price_data_description_short.html', width=800, height=300)"
      ]
    },
    {
      "cell_type": "markdown",
      "metadata": {
        "id": "O-hSYj0Nq7Za"
      },
      "source": [
        "## Download and do some data manipulation"
      ]
    },
    {
      "cell_type": "code",
      "execution_count": 31,
      "metadata": {
        "id": "psSYFoKspWi3",
        "cellView": "code"
      },
      "outputs": [],
      "source": [
        "import pandas as pd\n",
        "df = pd.read_csv(\"https://busan302.mycourses.work/data/house_price_train.csv\") # Use this for the assignment!\n",
        "#df = pd.read_csv(\"https://busan302.mycourses.work/data/mtcars.csv\") # Use this to ask a question by making a separate example in another workbook."
      ]
    },
    {
      "cell_type": "markdown",
      "metadata": {
        "id": "QvVn-sgJq7Zh"
      },
      "source": [
        "## Questions: EDA, Correlations and Regression\n",
        "\n",
        "In the questions that follow, we're going to further explore the relationship between SalePrice and other explanatory variables.\n",
        "\n",
        "**In addition to LotFrontage, choose two other variables from the data frame you think are promising explanatory variables. Use these variables in the questions below.**"
      ]
    },
    {
      "cell_type": "markdown",
      "source": [
        "---\n",
        ">### Q1. Is exploratory data analysis the same thing as hypothesis testing. Explain your reasoning. (1 mark)\n"
      ],
      "metadata": {
        "id": "XCs3-r0Sb5IF"
      }
    },
    {
      "cell_type": "markdown",
      "source": [
        "A1. No, exploratory data analysis(EDA) is an open-ended analysis in the process of transforming, visualising and summarising data while hypothesis testing is used to verify a priori hypotheses whether some observation seems unusual based on data."
      ],
      "metadata": {
        "id": "Ph75JTSnePBl"
      }
    },
    {
      "cell_type": "markdown",
      "metadata": {
        "id": "c7890kB2q7Zh"
      },
      "source": [
        "---\n",
        ">### Q2. Show a correlation matrix for SalePrice and the **explanatory** variables you chose.\n",
        "\n",
        "(a) Explain in plain English what correlation means. \n",
        "\n",
        "(b) Plot and describe the variables with the highest correlation. \n",
        "\n",
        "(2 marks)"
      ]
    },
    {
      "cell_type": "markdown",
      "source": [
        "A2(a) Correlation is the relation of being correlated that two variables are linearly related, such as height and weight."
      ],
      "metadata": {
        "id": "vPW6GqqNeVRK"
      }
    },
    {
      "cell_type": "code",
      "source": [
        "# A2(b)\n",
        "correlation = df[[\"SalePrice\", \"LotArea\", \"YearBuilt\"]]\n",
        "#correlation.head()\n",
        "\n",
        "##find the highest correlation.\n",
        "print(correlation.corr())\n",
        "print() #new line between values and plot\n",
        "\n",
        "#Plot\n",
        "from pandas.plotting import scatter_matrix\n",
        "correlated_plot = scatter_matrix(correlation, alpha = .9, diagonal = 'hist')\n"
      ],
      "metadata": {
        "id": "M3OEFoZHeXve",
        "colab": {
          "base_uri": "https://localhost:8080/",
          "height": 390
        },
        "outputId": "224f3b5e-fbcc-4906-8bb5-57b5722d3f6a"
      },
      "execution_count": 32,
      "outputs": [
        {
          "output_type": "stream",
          "name": "stdout",
          "text": [
            "           SalePrice   LotArea  YearBuilt\n",
            "SalePrice   1.000000  0.263843   0.522897\n",
            "LotArea     0.263843  1.000000   0.014228\n",
            "YearBuilt   0.522897  0.014228   1.000000\n",
            "\n"
          ]
        },
        {
          "output_type": "display_data",
          "data": {
            "text/plain": [
              "<Figure size 432x288 with 9 Axes>"
            ],
            "image/png": "[encoded data removed]"
          },
          "metadata": {
            "needs_background": "light"
          }
        }
      ]
    },
    {
      "cell_type": "markdown",
      "source": [
        "- The histogram plot shows the relationship between two variables in a data set and describes the correlation between two variables. The correlation variable contains SalePrice, LotArea, and YearBuilt, which extracted descriptive names in a data frame. The relationship between SalePrice and yearBuilt shows the highest correlation, approximately 0.523."
      ],
      "metadata": {
        "id": "cuGNShfagho5"
      }
    },
    {
      "cell_type": "markdown",
      "source": [],
      "metadata": {
        "id": "sfUbGBtBgB3i"
      }
    },
    {
      "cell_type": "markdown",
      "metadata": {
        "id": "6Oub7dw3q7Zh"
      },
      "source": [
        "---\n",
        "\n",
        ">### Q3. Run a linear regression model using your explanatory variables and print the results. Interpret each coefficient for each explanatory variable in your model. (2 marks)"
      ]
    },
    {
      "cell_type": "code",
      "source": [
        "import statsmodels.formula.api as smf\n",
        "model = smf.ols(formula=\"SalePrice ~ LotArea + YearBuilt\" , data = df)\n",
        "results = model.fit()\n",
        "print(results.summary())"
      ],
      "metadata": {
        "id": "UsRBtY-L4UQl",
        "colab": {
          "base_uri": "https://localhost:8080/",
          "height": 0
        },
        "outputId": "45c7b2d4-13a5-4f3b-c4f4-500b3913ba6c"
      },
      "execution_count": 33,
      "outputs": [
        {
          "output_type": "stream",
          "name": "stdout",
          "text": [
            "                            OLS Regression Results                            \n",
            "==============================================================================\n",
            "Dep. Variable:              SalePrice   R-squared:                       0.339\n",
            "Model:                            OLS   Adj. R-squared:                  0.338\n",
            "Method:                 Least Squares   F-statistic:                     373.9\n",
            "Date:                Thu, 25 Aug 2022   Prob (F-statistic):          8.54e-132\n",
            "Time:                        06:08:46   Log-Likelihood:                -18242.\n",
            "No. Observations:                1460   AIC:                         3.649e+04\n",
            "Df Residuals:                    1457   BIC:                         3.651e+04\n",
            "Df Model:                           2                                         \n",
            "Covariance Type:            nonrobust                                         \n",
            "==============================================================================\n",
            "                 coef    std err          t      P>|t|      [0.025      0.975]\n",
            "------------------------------------------------------------------------------\n",
            "Intercept  -2.533e+06    1.1e+05    -22.935      0.000   -2.75e+06   -2.32e+06\n",
            "LotArea        2.0412      0.170     12.041      0.000       1.709       2.374\n",
            "YearBuilt   1365.7762     56.022     24.379      0.000    1255.883    1475.669\n",
            "==============================================================================\n",
            "Omnibus:                      741.084   Durbin-Watson:                   1.987\n",
            "Prob(Omnibus):                  0.000   Jarque-Bera (JB):             7175.267\n",
            "Skew:                           2.155   Prob(JB):                         0.00\n",
            "Kurtosis:                      12.969   Cond. No.                     9.51e+05\n",
            "==============================================================================\n",
            "\n",
            "Notes:\n",
            "[1] Standard Errors assume that the covariance matrix of the errors is correctly specified.\n",
            "[2] The condition number is large, 9.51e+05. This might indicate that there are\n",
            "strong multicollinearity or other numerical problems.\n"
          ]
        }
      ]
    },
    {
      "cell_type": "markdown",
      "source": [
        "---\n",
        "\n",
        ">### Q4. If your main goal in regression is inference (i.e., better understanding the relationship between your X variables and y) do you need to be concerned about correlation between variables? Does this change if your goal is prediction? Explain your reasoning. (2 marks)"
      ],
      "metadata": {
        "id": "cmp2wa2gQ1gq"
      }
    },
    {
      "cell_type": "markdown",
      "source": [
        "- Suppose the primary goal in regression is inference. In that case, we need to consider the relationship between your X variables and Y. Because the explanatory variable always belongs on the X-axis, the response variable belongs Y-axis. Although the main goal is prediction, two variables constantly change as long as correlated variables.\n"
      ],
      "metadata": {
        "id": "skRqjNqjrh2o"
      }
    },
    {
      "cell_type": "markdown",
      "source": [
        "---\n",
        "\n",
        "You notice that LotFrontage has a lot of missing values, and you're curious if there is a relationship with SalePrice. You think that maybe you should not worry about dropping all the rows with NAs, but you want to be sure of your decision.\n",
        "\n",
        ">### Q5(a) How can you establish that there is no difference between SalePrice in rows with missing values compared with those without missing values? Explain your reasoning and show your code. (3 marks)  \n"
      ],
      "metadata": {
        "id": "LLDVDF0ukxrA"
      }
    },
    {
      "cell_type": "markdown",
      "source": [
        "- As the code is shown below, \"pd.isnull()\" function is to identify whether the \"NA\" value includes in the column. The new \"missing_values\" column shows whether the \"NA\" value is included in the \"SalePrice\" column. If the outcome is False, there is no \"NA\" value, while True consists of the \"NA\" value. Therefore, there is no difference between \"SalePrice\" in rows with \"missing_values\"."
      ],
      "metadata": {
        "id": "nkJ_tUXXieQx"
      }
    },
    {
      "cell_type": "code",
      "source": [
        "# Enter your code below - Explain what you're doing.\n",
        "import scipy.stats\n",
        "\n",
        "# This may be useful to you.\n",
        "# Create a dummy variable to identify missing values.\n",
        "df[\"missing\"] = pd.isnull( df[\"LotFrontage\"] ) \n",
        "\n",
        "#We can check whether the \"NA\" value includes in the LotFrontage column.\n",
        "check_for_nan = df[\"LotFrontage\"].isnull().values.any()\n",
        "print(\"Is there 'NA' value in the LotFrontage column?\", check_for_nan)\n",
        "print()\n",
        "\n",
        "#We can calculate the number of \"NA\" value\n",
        "number_of_na = df[\"LotFrontage\"].isnull().values.sum()\n",
        "print(\"How many 'NA' values include in the LotFrontage column?\", number_of_na)\n",
        "print()\n",
        "\n",
        "#It shows \"missing\" that twenty rows whether the \"NA\" value includes in the LotFrontage column. If the outcome is False, there is no \"NA\" value, while True consists of the \"NA\" value.\n",
        "print(df[\"missing\"].head(20))\n",
        "print()\n",
        "\n",
        "\n",
        "# Your solution\n",
        "# Create a dummy variable to identify missing values.\n",
        "df[\"missing_values\"] = pd.isnull(df[\"SalePrice\"])\n",
        "\n",
        "#We can check whether the \"NA\" value includes in the SalePrice column.\n",
        "check_for_nan2 = df[\"SalePrice\"].isnull().values.any()\n",
        "print(\"Is there 'NA' value in the SalePrice column?\", check_for_nan2)\n",
        "print()\n",
        "\n",
        "#We can calculate the number of \"NA\" value\n",
        "number_of_na2 = df[\"SalePrice\"].isnull().values.sum()\n",
        "print(\"How many 'NA' values include in the SalePrice column?\", number_of_na2)\n",
        "print()\n",
        "\n",
        "#It shows \"missing_values\" that twenty rows whether the \"NA\" value includes in the SalePrice column. If the outcome is False, there is no \"NA\" value, while True consists of the \"NA\" value.\n",
        "print(df[\"missing_values\"].head(20))\n",
        "print()\n",
        "\n",
        "\n"
      ],
      "metadata": {
        "id": "dOLMj8IXiepR",
        "colab": {
          "base_uri": "https://localhost:8080/",
          "height": 0
        },
        "outputId": "3240ca14-1d9a-4307-ee4b-17315089527a"
      },
      "execution_count": 34,
      "outputs": [
        {
          "output_type": "stream",
          "name": "stdout",
          "text": [
            "Is there 'NA' value in the LotFrontage column? True\n",
            "\n",
            "How many 'NA' values include in the LotFrontage column? 259\n",
            "\n",
            "0     False\n",
            "1     False\n",
            "2     False\n",
            "3     False\n",
            "4     False\n",
            "5     False\n",
            "6     False\n",
            "7      True\n",
            "8     False\n",
            "9     False\n",
            "10    False\n",
            "11    False\n",
            "12     True\n",
            "13    False\n",
            "14     True\n",
            "15    False\n",
            "16     True\n",
            "17    False\n",
            "18    False\n",
            "19    False\n",
            "Name: missing, dtype: bool\n",
            "\n",
            "Is there 'NA' value in the SalePrice column? False\n",
            "\n",
            "How many 'NA' values include in the SalePrice column? 0\n",
            "\n",
            "0     False\n",
            "1     False\n",
            "2     False\n",
            "3     False\n",
            "4     False\n",
            "5     False\n",
            "6     False\n",
            "7     False\n",
            "8     False\n",
            "9     False\n",
            "10    False\n",
            "11    False\n",
            "12    False\n",
            "13    False\n",
            "14    False\n",
            "15    False\n",
            "16    False\n",
            "17    False\n",
            "18    False\n",
            "19    False\n",
            "Name: missing_values, dtype: bool\n",
            "\n"
          ]
        }
      ]
    },
    {
      "cell_type": "markdown",
      "source": [
        "---\n",
        "\n",
        ">### Q5(b). Explain the null hypothesis and how it relates to the alternative hypothesis in the context of the previous question. Define a p-value and then explain what relation this has to the null and alternative. (3 marks)"
      ],
      "metadata": {
        "id": "CEnbDfspPtnk"
      }
    },
    {
      "cell_type": "markdown",
      "source": [
        "- The null hypothesis is the formal basis for the statistical testing hypothesis that proposes that no statistical significance exists in a set of given observations. The null hypothesis and alternative hypothesis are being used in hypothesis testing. The null hypothesis predicts whether there is no effect or no relationship between the variables. In contrast, the alternative hypothesis claims that there is an effect or a relationship in research prediction. There was no relationship between the movement of the two variables.\n",
        "The P-value shows 0.000 that the null hypothesis is rejected and the test is statistically significant. Therefore, the alternative hypothesis predicts that there is an effect or a relationship in the variables.\n"
      ],
      "metadata": {
        "id": "SQ0e0-UEtUgf"
      }
    },
    {
      "cell_type": "markdown",
      "source": [
        "---\n",
        "\n",
        ">### Q5(c) Instead of SalePrice, repeat your analysis in part (a) on one of your other explanatory variables. Explain the results. (2 marks)"
      ],
      "metadata": {
        "id": "5w_Q3YgllWe8"
      }
    },
    {
      "cell_type": "markdown",
      "source": [
        "- The code below shows no missing value in the YearBuilt column."
      ],
      "metadata": {
        "id": "Ld5ul1mbgeAk"
      }
    },
    {
      "cell_type": "code",
      "source": [
        "# ANSWER\n",
        "import scipy.stats\n",
        "import numpy as np\n",
        "\n",
        "sdf = df[[\"SalePrice\", \"LotArea\", \"YearBuilt\"]]  # ANSWER\n",
        "\n",
        "# Create a dummy variable to identify missing values.\n",
        "sdf[\"missing\"] = pd.isnull(sdf[\"YearBuilt\"])\n",
        "\n",
        "#It shows \"missing\" that twenty rows whether the \"NA\" value includes in the YearBuilt column. If the outcome is False, there is no \"NA\" value, while True consists of the \"NA\" value.\n",
        "print(sdf[\"missing\"].head(20))\n",
        "print()"
      ],
      "metadata": {
        "id": "o_WJ4RWek97P",
        "colab": {
          "base_uri": "https://localhost:8080/",
          "height": 0
        },
        "outputId": "40126ba8-1132-4260-e6b5-edc9ad82bb11"
      },
      "execution_count": 35,
      "outputs": [
        {
          "output_type": "stream",
          "name": "stdout",
          "text": [
            "0     False\n",
            "1     False\n",
            "2     False\n",
            "3     False\n",
            "4     False\n",
            "5     False\n",
            "6     False\n",
            "7     False\n",
            "8     False\n",
            "9     False\n",
            "10    False\n",
            "11    False\n",
            "12    False\n",
            "13    False\n",
            "14    False\n",
            "15    False\n",
            "16    False\n",
            "17    False\n",
            "18    False\n",
            "19    False\n",
            "Name: missing, dtype: bool\n",
            "\n"
          ]
        },
        {
          "output_type": "stream",
          "name": "stderr",
          "text": [
            "/usr/local/lib/python3.7/dist-packages/ipykernel_launcher.py:8: SettingWithCopyWarning: \n",
            "A value is trying to be set on a copy of a slice from a DataFrame.\n",
            "Try using .loc[row_indexer,col_indexer] = value instead\n",
            "\n",
            "See the caveats in the documentation: https://pandas.pydata.org/pandas-docs/stable/user_guide/indexing.html#returning-a-view-versus-a-copy\n",
            "  \n"
          ]
        }
      ]
    },
    {
      "cell_type": "markdown",
      "source": [],
      "metadata": {
        "id": "o1S35TXqgcB-"
      }
    },
    {
      "cell_type": "markdown",
      "source": [
        "---\n",
        "\n",
        ">### Q6. Impute the missing variables using the template code below. Then rerun your regression model. What differences do you notice? Are the coefficients estimated by the models the same or different? Why? Explain your reasoning. (2 marks)"
      ],
      "metadata": {
        "id": "MbUE3z-LxVkp"
      }
    },
    {
      "cell_type": "markdown",
      "source": [
        "- The regression results show no differences in outcome, and the coefficients estimated by the models remain the same because there was no missing value, so nothing was imputed."
      ],
      "metadata": {
        "id": "kvmfHx9ChaLS"
      }
    },
    {
      "cell_type": "code",
      "source": [
        "from sklearn.impute import SimpleImputer\n",
        "import numpy as np\n",
        "\n",
        "imp = SimpleImputer(missing_values=np.nan, strategy='mean') # impute the average for the values\n",
        "idf = pd.DataFrame(imp.fit_transform(sdf))\n",
        "idf.columns=sdf.columns\n",
        "idf.index=sdf.index\n"
      ],
      "metadata": {
        "id": "-C_Bv1K18eDD"
      },
      "execution_count": 37,
      "outputs": []
    },
    {
      "cell_type": "code",
      "source": [
        "import statsmodels.formula.api as smf\n",
        "model2 = smf.ols(formula=\"SalePrice ~ LotArea + YearBuilt\" , data = df)\n",
        "results2 = model2.fit()\n",
        "print(results2.summary())"
      ],
      "metadata": {
        "id": "PHytvPHy5etn",
        "colab": {
          "base_uri": "https://localhost:8080/",
          "height": 0
        },
        "outputId": "c31c8d4e-f9ff-417d-c173-9b06fc79137b"
      },
      "execution_count": 38,
      "outputs": [
        {
          "output_type": "stream",
          "name": "stdout",
          "text": [
            "                            OLS Regression Results                            \n",
            "==============================================================================\n",
            "Dep. Variable:              SalePrice   R-squared:                       0.339\n",
            "Model:                            OLS   Adj. R-squared:                  0.338\n",
            "Method:                 Least Squares   F-statistic:                     373.9\n",
            "Date:                Thu, 25 Aug 2022   Prob (F-statistic):          8.54e-132\n",
            "Time:                        06:09:20   Log-Likelihood:                -18242.\n",
            "No. Observations:                1460   AIC:                         3.649e+04\n",
            "Df Residuals:                    1457   BIC:                         3.651e+04\n",
            "Df Model:                           2                                         \n",
            "Covariance Type:            nonrobust                                         \n",
            "==============================================================================\n",
            "                 coef    std err          t      P>|t|      [0.025      0.975]\n",
            "------------------------------------------------------------------------------\n",
            "Intercept  -2.533e+06    1.1e+05    -22.935      0.000   -2.75e+06   -2.32e+06\n",
            "LotArea        2.0412      0.170     12.041      0.000       1.709       2.374\n",
            "YearBuilt   1365.7762     56.022     24.379      0.000    1255.883    1475.669\n",
            "==============================================================================\n",
            "Omnibus:                      741.084   Durbin-Watson:                   1.987\n",
            "Prob(Omnibus):                  0.000   Jarque-Bera (JB):             7175.267\n",
            "Skew:                           2.155   Prob(JB):                         0.00\n",
            "Kurtosis:                      12.969   Cond. No.                     9.51e+05\n",
            "==============================================================================\n",
            "\n",
            "Notes:\n",
            "[1] Standard Errors assume that the covariance matrix of the errors is correctly specified.\n",
            "[2] The condition number is large, 9.51e+05. This might indicate that there are\n",
            "strong multicollinearity or other numerical problems.\n"
          ]
        }
      ]
    }
  ],
  "metadata": {
    "colab": {
      "collapsed_sections": [],
      "name": "Assignment_3_Regression_jhwa426.ipynb",
      "provenance": []
    },
    "kernelspec": {
      "display_name": "Python 3 (ipykernel)",
      "language": "python",
      "name": "python3"
    },
    "language_info": {
      "codemirror_mode": {
        "name": "ipython",
        "version": 3
      },
      "file_extension": ".py",
      "mimetype": "text/x-python",
      "name": "python",
      "nbconvert_exporter": "python",
      "pygments_lexer": "ipython3",
      "version": "3.8.13"
    }
  },
  "nbformat": 4,
  "nbformat_minor": 0
}